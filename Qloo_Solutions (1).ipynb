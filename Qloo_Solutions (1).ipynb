{
  "nbformat": 4,
  "nbformat_minor": 0,
  "metadata": {
    "colab": {
      "name": "Qloo Solutions.ipynb",
      "provenance": []
    },
    "kernelspec": {
      "name": "python3",
      "display_name": "Python 3"
    }
  },
  "cells": [
    {
      "cell_type": "markdown",
      "metadata": {
        "id": "M5c5D5brOPYy",
        "colab_type": "text"
      },
      "source": [
        "Problem 1:\n",
        "\n"
      ]
    },
    {
      "cell_type": "code",
      "metadata": {
        "id": "8b2P7rq1OORK",
        "colab_type": "code",
        "outputId": "72bd71af-835a-41d1-fbc3-344bd2ef10b6",
        "colab": {
          "base_uri": "https://localhost:8080/",
          "height": 138
        }
      },
      "source": [
        "# You have `n` examples. Each example has `m` elements of class `Artist`.\n",
        "# class Artist has the following fields:\n",
        "\n",
        "import pandas as pd \n",
        "pd.options.display.max_rows = 4000\n",
        "\n",
        "class Artist:\n",
        "    def __init__(self, name, popularity):\n",
        "        self.name = name\n",
        "        self.popularity = popularity\n",
        "\n",
        "    def __repr__(self):\n",
        "        return '{} (popularity: {})'.format(self.name, self.popularity)\n",
        "#\n",
        "# Assume you don't want to include in your training data very obscure (unpopular) artists.\n",
        "# How you would go about cleaning your data? What is the complexity of this operation?\n",
        "# For example assume you have the list of artists:\n",
        "a = [Artist('Madonna', 1000), Artist('Lady Gaga', 1500), Artist('Rolling Stones', 2500),\n",
        "     Artist('Metallica', 900), Artist('The Beatles', 5000), Artist('Miley Cyrus', 800)]\n",
        "#\n",
        "# and a population threshold: `popularity_threshold` = 1000\n",
        "# That means, you do not want artists whose population is less than 1000.\n",
        "# Your training data looks like this (just three rows here for convenience):\n",
        "df = pd.DataFrame({'user_sentiment': [[a[1], a[2], a[5], a[4]],\n",
        "                                      [a[3], a[1], a[3]],\n",
        "                                      [a[2], a[1]]]})\n",
        "# print(df)\n",
        "# Out[48]:\n",
        "#     user_sentiment\n",
        "# 0  [Lady Gaga (1500), Rolling Stones (2500), Miley Cyrus (800), The Beatles (5000)]\n",
        "# 1  [Metallica (900), Lady Gaga (1500), Metallica (900)]\n",
        "# 2  [Rolling Stones (2500), Lady Gaga (1500)]\n",
        "#\n",
        "# We want that:\n",
        "# 0  [Lady Gaga (1500), Rolling Stones (2500), The Beatles (5000)]\n",
        "# 1  [Lady Gaga (1500)]\n",
        "# 2  [Rolling Stones (2500), Lady Gaga (1500)]\n",
        "\n",
        "# steps\n",
        "# filter only by popularity >999\n",
        "# create new df with new list\n",
        "\n",
        "df\n",
        "\n"
      ],
      "execution_count": 0,
      "outputs": [
        {
          "output_type": "execute_result",
          "data": {
            "text/html": [
              "<div>\n",
              "<style scoped>\n",
              "    .dataframe tbody tr th:only-of-type {\n",
              "        vertical-align: middle;\n",
              "    }\n",
              "\n",
              "    .dataframe tbody tr th {\n",
              "        vertical-align: top;\n",
              "    }\n",
              "\n",
              "    .dataframe thead th {\n",
              "        text-align: right;\n",
              "    }\n",
              "</style>\n",
              "<table border=\"1\" class=\"dataframe\">\n",
              "  <thead>\n",
              "    <tr style=\"text-align: right;\">\n",
              "      <th></th>\n",
              "      <th>user_sentiment</th>\n",
              "    </tr>\n",
              "  </thead>\n",
              "  <tbody>\n",
              "    <tr>\n",
              "      <th>0</th>\n",
              "      <td>[Lady Gaga (popularity: 1500), Rolling Stones ...</td>\n",
              "    </tr>\n",
              "    <tr>\n",
              "      <th>1</th>\n",
              "      <td>[Metallica (popularity: 900), Lady Gaga (popul...</td>\n",
              "    </tr>\n",
              "    <tr>\n",
              "      <th>2</th>\n",
              "      <td>[Rolling Stones (popularity: 2500), Lady Gaga ...</td>\n",
              "    </tr>\n",
              "  </tbody>\n",
              "</table>\n",
              "</div>"
            ],
            "text/plain": [
              "                                      user_sentiment\n",
              "0  [Lady Gaga (popularity: 1500), Rolling Stones ...\n",
              "1  [Metallica (popularity: 900), Lady Gaga (popul...\n",
              "2  [Rolling Stones (popularity: 2500), Lady Gaga ..."
            ]
          },
          "metadata": {
            "tags": []
          },
          "execution_count": 19
        }
      ]
    },
    {
      "cell_type": "code",
      "metadata": {
        "id": "UImQHSLuUZdV",
        "colab_type": "code",
        "outputId": "1185a810-f785-47ef-c06e-484d602f3843",
        "colab": {
          "base_uri": "https://localhost:8080/",
          "height": 228
        }
      },
      "source": [
        "df_out = pd.DataFrame(columns = ['user_sentiment'])\n",
        "l2 = []\n",
        "for idx, x in enumerate(df['user_sentiment']):\n",
        "    l1 = x\n",
        "    for y in l1:\n",
        "        if y.popularity > 900:\n",
        "            l2.append(y)\n",
        "            df_out = df_out.append(pd.Series(str(l2), index = df_out.columns), ignore_index=True)\n",
        "\n",
        "df_out            \n",
        "            "
      ],
      "execution_count": 0,
      "outputs": [
        {
          "output_type": "execute_result",
          "data": {
            "text/html": [
              "<div>\n",
              "<style scoped>\n",
              "    .dataframe tbody tr th:only-of-type {\n",
              "        vertical-align: middle;\n",
              "    }\n",
              "\n",
              "    .dataframe tbody tr th {\n",
              "        vertical-align: top;\n",
              "    }\n",
              "\n",
              "    .dataframe thead th {\n",
              "        text-align: right;\n",
              "    }\n",
              "</style>\n",
              "<table border=\"1\" class=\"dataframe\">\n",
              "  <thead>\n",
              "    <tr style=\"text-align: right;\">\n",
              "      <th></th>\n",
              "      <th>user_sentiment</th>\n",
              "    </tr>\n",
              "  </thead>\n",
              "  <tbody>\n",
              "    <tr>\n",
              "      <th>0</th>\n",
              "      <td>[Lady Gaga (popularity: 1500)]</td>\n",
              "    </tr>\n",
              "    <tr>\n",
              "      <th>1</th>\n",
              "      <td>[Lady Gaga (popularity: 1500), Rolling Stones (popularity: 2500)]</td>\n",
              "    </tr>\n",
              "    <tr>\n",
              "      <th>2</th>\n",
              "      <td>[Lady Gaga (popularity: 1500), Rolling Stones (popularity: 2500), The Beatles (popularity: 5000)]</td>\n",
              "    </tr>\n",
              "    <tr>\n",
              "      <th>3</th>\n",
              "      <td>[Lady Gaga (popularity: 1500), Rolling Stones (popularity: 2500), The Beatles (popularity: 5000), Lady Gaga (popularity: 1500)]</td>\n",
              "    </tr>\n",
              "    <tr>\n",
              "      <th>4</th>\n",
              "      <td>[Lady Gaga (popularity: 1500), Rolling Stones (popularity: 2500), The Beatles (popularity: 5000), Lady Gaga (popularity: 1500), Rolling Stones (popularity: 2500)]</td>\n",
              "    </tr>\n",
              "    <tr>\n",
              "      <th>5</th>\n",
              "      <td>[Lady Gaga (popularity: 1500), Rolling Stones (popularity: 2500), The Beatles (popularity: 5000), Lady Gaga (popularity: 1500), Rolling Stones (popularity: 2500), Lady Gaga (popularity: 1500)]</td>\n",
              "    </tr>\n",
              "  </tbody>\n",
              "</table>\n",
              "</div>"
            ],
            "text/plain": [
              "                                                                                                                                                                                     user_sentiment\n",
              "0  [Lady Gaga (popularity: 1500)]                                                                                                                                                                  \n",
              "1  [Lady Gaga (popularity: 1500), Rolling Stones (popularity: 2500)]                                                                                                                               \n",
              "2  [Lady Gaga (popularity: 1500), Rolling Stones (popularity: 2500), The Beatles (popularity: 5000)]                                                                                               \n",
              "3  [Lady Gaga (popularity: 1500), Rolling Stones (popularity: 2500), The Beatles (popularity: 5000), Lady Gaga (popularity: 1500)]                                                                 \n",
              "4  [Lady Gaga (popularity: 1500), Rolling Stones (popularity: 2500), The Beatles (popularity: 5000), Lady Gaga (popularity: 1500), Rolling Stones (popularity: 2500)]                              \n",
              "5  [Lady Gaga (popularity: 1500), Rolling Stones (popularity: 2500), The Beatles (popularity: 5000), Lady Gaga (popularity: 1500), Rolling Stones (popularity: 2500), Lady Gaga (popularity: 1500)]"
            ]
          },
          "metadata": {
            "tags": []
          },
          "execution_count": 277
        }
      ]
    },
    {
      "cell_type": "markdown",
      "metadata": {
        "id": "IRkRxo0MSm16",
        "colab_type": "text"
      },
      "source": [
        "Problem Solving Analysis:\n",
        "\n",
        "This was difficult becuase the output is a list, instead of a discrete value that can be neatly put into a column. I had to iterate through the rows, and then put into a list. Once I did that, I had to iterate through the list, and take only the values based on the condition. Then I had to take the new list, and put it into the new `df_out` as a single value in the column.  \n",
        "\n",
        "The solution works, and you can test it as needed.  "
      ]
    },
    {
      "cell_type": "markdown",
      "metadata": {
        "id": "7TMD8KZPRdB6",
        "colab_type": "text"
      },
      "source": [
        "# Problem 2"
      ]
    },
    {
      "cell_type": "code",
      "metadata": {
        "id": "TvO77v3Pj_EW",
        "colab_type": "code",
        "colab": {}
      },
      "source": [
        "# We have noticed that many TasteDive users might mistype the name of the artist they want to find recs for\n",
        "# and because the system cannot find it, they enter themselves a noisy version of it.\n",
        "# In our effort to avoid this, we cache the 1000 most popular artist names and we compare them with the entered name.\n",
        "# Write the following function:\n",
        "def exists(name, popular_names):\n",
        "#\n",
        "# that returns True if `name` is in one of `popular names`, False otherwise.\n",
        "# Ignore spaces in the names and allow up to two insertions, or up to two deletions or\n",
        "# up to one insertion and deletion in the entered name.\n",
        "#\n",
        "# For example, assuming 'Madonna' is in `popular_names` the following should return True:\n",
        "# name = ‘Madonna\n",
        "# name = ‘Mad o n n a’ (spaces are ignored)\n",
        "# name = ‘Mdonna’ (one deletion)\n",
        "# name = ‘Maadonnna’ (two insertions)\n",
        "#\n",
        "# But the following must return False\n",
        "# name = ‘Mdnnna’ (two deletions and one insertion)\n"
      ],
      "execution_count": 0,
      "outputs": []
    },
    {
      "cell_type": "code",
      "metadata": {
        "id": "U39YVP0JqVCo",
        "colab_type": "code",
        "colab": {}
      },
      "source": [
        "# Data setup\n",
        "i1 = 'Madonna'\n",
        "i2 = 'Mad o n n a'\n",
        "i3 = 'Mdonna'\n",
        "i4 = 'Maadonnna'\n",
        "i5 = 'Mdnnna'\n",
        "i6 = 'Micheal Jackson'\n",
        "i7 = 'apple'\n",
        "i8 = 'Mdnnnaie'\n",
        "popular_names = 'Madonna', 'Micheal Jackson'\n",
        "\n",
        "names = i1, i2, i3, i4, i5, i6, i7, i8"
      ],
      "execution_count": 0,
      "outputs": []
    },
    {
      "cell_type": "code",
      "metadata": {
        "id": "TP8eoZqgPvMN",
        "colab_type": "code",
        "colab": {}
      },
      "source": [
        "def exists(name, popular_names):\n",
        "    from collections import Counter\n",
        "    # exact match\n",
        "    matches = [i for i in popular_names if name in i] \n",
        "    if matches:\n",
        "        return 'True'\n",
        "    else:\n",
        "        # match with space\n",
        "        matches = [i for i in popular_names if \n",
        "                   name.replace(' ', '') in i] \n",
        "        if matches:\n",
        "            return 'True'\n",
        "        else:\n",
        "            matches = [i for i in popular_names if set(name) == set(i) and len(name) >= len(i)+2]\n",
        "            if matches:\n",
        "                return 'True'\n",
        "            else:\n",
        "                matches = [i for i in popular_names if len(name) == (len(i)-1) and set(name).issubset(i)]\n",
        "                if matches:\n",
        "                    mn = pd.merge(pd.DataFrame([Counter(matches[0])]), pd.DataFrame([Counter(name)]), how='outer')\n",
        "                    val = mn.iloc[0] - mn.iloc[1]\n",
        "                    for x in val:\n",
        "                        if x < 0:\n",
        "                            return 'False'\n",
        "                    else:\n",
        "                        return 'True'\n",
        "        return 'False'"
      ],
      "execution_count": 0,
      "outputs": []
    },
    {
      "cell_type": "code",
      "metadata": {
        "id": "9ESFI5Y1AlUt",
        "colab_type": "code",
        "outputId": "1eed1fff-4280-4d0e-b6af-ea9e589847a8",
        "colab": {
          "base_uri": "https://localhost:8080/",
          "height": 163
        }
      },
      "source": [
        "for x in names:\n",
        "    print(exists(x, popular_names))"
      ],
      "execution_count": 0,
      "outputs": [
        {
          "output_type": "stream",
          "text": [
            "True\n",
            "True\n",
            "True\n",
            "True\n",
            "False\n",
            "True\n",
            "False\n",
            "False\n"
          ],
          "name": "stdout"
        }
      ]
    },
    {
      "cell_type": "markdown",
      "metadata": {
        "id": "q0xBvgBLCV52",
        "colab_type": "text"
      },
      "source": [
        "For this solution, the first two cases are easy to solve for, namely the exact match and the spaces included match. \n",
        "\n",
        "For the next set of decisions, I used list comprehension to eliminate the instances where there are double letters. \n",
        "\n",
        "The most complex part is deciphering between the valid input `Mdonna` and the invalid input `Mdnnna`. To distinguish between these two, I used the `Counter()` function to create a df of the value from the `popular_names` list and the value from the input. I then subtracted these two. The key understanding is that the invalid scenario's output will always yeild a negative number. I use that as a condition to flag and then return the 'False' flag. "
      ]
    }
  ]
}